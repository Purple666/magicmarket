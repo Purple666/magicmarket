{
 "cells": [
  {
   "cell_type": "code",
   "execution_count": 1,
   "metadata": {
    "collapsed": false
   },
   "outputs": [],
   "source": [
    "import matplotlib.pyplot as plt\n",
    "import numpy as np\n",
    "import pandas\n",
    "from datetime import datetime\n",
    "from IPython.display import display, HTML\n",
    "import scipy.stats as stats\n",
    "from sklearn.mixture import GMM\n",
    "import subprocess\n",
    "import sys\n",
    "\n",
    "import math\n",
    "\n",
    "%matplotlib inline\n",
    "\n",
    "import common"
   ]
  },
  {
   "cell_type": "code",
   "execution_count": 2,
   "metadata": {
    "collapsed": false
   },
   "outputs": [
    {
     "name": "stdout",
     "output_type": "stream",
     "text": [
      "Running conversion.\n",
      "Converting year 2010\n",
      "..loading cache\n",
      "3839844 ticks.\n",
      "Conversion done.\n",
      "Extracting timepoints.\n",
      "Calculating period information for 1200s.\n",
      "\t..done\n",
      "Calculating period information for 600s.\n",
      "\t..done\n",
      "Calculating period information for 300s.\n",
      "\t..done\n",
      "Converting year 2011\n",
      "..loading cache\n",
      "5542698 ticks.\n",
      "Conversion done.\n",
      "Extracting timepoints.\n",
      "Calculating period information for 1200s.\n",
      "\t..done\n",
      "Calculating period information for 600s.\n",
      "\t..done\n",
      "Calculating period information for 300s.\n",
      "\t..done\n",
      "Converting year 2012\n",
      "..loading cache\n",
      "15286819 ticks.\n",
      "Conversion done.\n",
      "Extracting timepoints.\n",
      "Calculating period information for 1200s.\n",
      "\t..done\n",
      "Calculating period information for 600s.\n",
      "\t..done\n",
      "Calculating period information for 300s.\n",
      "\t..done\n",
      "Converting year 2013\n",
      "..loading cache\n",
      "13127652 ticks.\n",
      "Conversion done.\n",
      "Extracting timepoints.\n",
      "Calculating period information for 1200s.\n",
      "\t..done\n",
      "Calculating period information for 600s.\n",
      "\t..done\n",
      "Calculating period information for 300s.\n",
      "\t..done\n",
      "Converting year 2014\n",
      "..loading cache\n",
      "10626584 ticks.\n",
      "Conversion done.\n",
      "Extracting timepoints.\n",
      "Calculating period information for 1200s.\n",
      "\t..done\n",
      "Calculating period information for 600s.\n",
      "\t..done\n",
      "Calculating period information for 300s.\n",
      "\t..done\n"
     ]
    }
   ],
   "source": [
    "print (\"Running conversion.\")\n",
    "for year in [2010, 2011, 2012, 2013, 2014]:\n",
    "    print (\"Converting year \" + str(year))\n",
    "    sys.stdout.flush()\n",
    "    df = common.readGaincapital('../tools/datacrawler/gaincapital_EUR_USD_' + str(year) + '.csv')\n",
    "    df[\"hours\"] = pandas.Series([dt.hour for dt in df[\"datetime\"]])\n",
    "    outfilename = \"cache/gaincapital_EUR_USD_\" + str(year) + \".extended.csv\"\n",
    "    df.to_csv(outfilename)\n",
    "    print (str(len(df[\"hours\"])) + \" ticks.\")\n",
    "    print (\"Conversion done.\")\n",
    "    print (\"Extracting timepoints.\")\n",
    "    sys.stdout.flush()\n",
    "    for timedelta in [20 * 60, 10 * 60, 5 * 60]:\n",
    "        print (\"Calculating period information for \" + str(timedelta) + \"s.\")\n",
    "        sys.stdout.flush()\n",
    "        path = \"../tools/tickconvert\"\n",
    "        command = [path,\n",
    "                   \"--filename\", outfilename,\n",
    "                   \"--timedelta\", str(timedelta),\n",
    "                   \"--skiprows\", \"1\",\n",
    "                   \"--outfile\", \"auto\"\n",
    "                   ]\n",
    "        subprocess.call(command)\n",
    "        print (\"\\t..done\")\n",
    "        sys.stdout.flush()"
   ]
  }
 ],
 "metadata": {
  "kernelspec": {
   "display_name": "Python 2",
   "language": "python",
   "name": "python2"
  },
  "language_info": {
   "codemirror_mode": {
    "name": "ipython",
    "version": 2
   },
   "file_extension": ".py",
   "mimetype": "text/x-python",
   "name": "python",
   "nbconvert_exporter": "python",
   "pygments_lexer": "ipython2",
   "version": "2.7.10"
  }
 },
 "nbformat": 4,
 "nbformat_minor": 0
}
